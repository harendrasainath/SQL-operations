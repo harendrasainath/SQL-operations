{
  "nbformat": 4,
  "nbformat_minor": 0,
  "metadata": {
    "colab": {
      "provenance": []
    },
    "kernelspec": {
      "name": "python3",
      "display_name": "Python 3"
    },
    "language_info": {
      "name": "python"
    }
  },
  "cells": [
    {
      "cell_type": "markdown",
      "source": [
        "#Install Spark\n"
      ],
      "metadata": {
        "id": "BSDjOM9wt0RD"
      }
    },
    {
      "cell_type": "code",
      "source": [
        "!pip3 install -qq pyspark"
      ],
      "metadata": {
        "id": "WUVJGzQ5y5Hr"
      },
      "execution_count": null,
      "outputs": []
    },
    {
      "cell_type": "code",
      "source": [
        "from pyspark.sql import SparkSession\n",
        "spark=SparkSession.builder.master(\"local[*]\").getOrCreate()\n",
        "sc=spark.sparkContext\n",
        "sc"
      ],
      "metadata": {
        "colab": {
          "base_uri": "https://localhost:8080/",
          "height": 199
        },
        "id": "E6C06rjKy9dB",
        "outputId": "5181f6e6-77ac-4349-837c-582a572a19a7"
      },
      "execution_count": null,
      "outputs": [
        {
          "output_type": "execute_result",
          "data": {
            "text/plain": [
              "<SparkContext master=local[*] appName=pyspark-shell>"
            ],
            "text/html": [
              "\n",
              "        <div>\n",
              "            <p><b>SparkContext</b></p>\n",
              "\n",
              "            <p><a href=\"http://77a22f75fb2b:4040\">Spark UI</a></p>\n",
              "\n",
              "            <dl>\n",
              "              <dt>Version</dt>\n",
              "                <dd><code>v3.1.2</code></dd>\n",
              "              <dt>Master</dt>\n",
              "                <dd><code>local[*]</code></dd>\n",
              "              <dt>AppName</dt>\n",
              "                <dd><code>pyspark-shell</code></dd>\n",
              "            </dl>\n",
              "        </div>\n",
              "        "
            ]
          },
          "metadata": {},
          "execution_count": 19
        }
      ]
    },
    {
      "cell_type": "markdown",
      "source": [
        "#DataFrame Operations"
      ],
      "metadata": {
        "id": "kF129CqK1-Ai"
      }
    },
    {
      "cell_type": "code",
      "source": [
        "data_file=\"/content/DEPT.csv\"\n",
        "dept_df=spark.read.csv(data_file,inferSchema=True, header=True)"
      ],
      "metadata": {
        "id": "gQlyIO9M1HLt"
      },
      "execution_count": null,
      "outputs": []
    },
    {
      "cell_type": "code",
      "source": [
        "data_file=\"/content/EMP.csv\"\n",
        "emp_df=spark.read.csv(data_file,inferSchema=True, header=True)"
      ],
      "metadata": {
        "id": "cVlFcwzC1Qxq"
      },
      "execution_count": null,
      "outputs": []
    },
    {
      "cell_type": "code",
      "source": [
        "emp_df.printSchema()"
      ],
      "metadata": {
        "colab": {
          "base_uri": "https://localhost:8080/"
        },
        "id": "lRTBMwe31jTy",
        "outputId": "edf91abf-4dd7-446b-8c6a-8428c6c49090"
      },
      "execution_count": null,
      "outputs": [
        {
          "output_type": "stream",
          "name": "stdout",
          "text": [
            "root\n",
            " |-- EmpID: integer (nullable = true)\n",
            " |-- LastName: string (nullable = true)\n",
            " |-- FirstName: string (nullable = true)\n",
            " |-- JobDesc: string (nullable = true)\n",
            " |-- JoinDate: string (nullable = true)\n",
            " |-- Salary: integer (nullable = true)\n",
            " |-- Comm: double (nullable = true)\n",
            " |-- DeptID: integer (nullable = true)\n",
            "\n"
          ]
        }
      ]
    },
    {
      "cell_type": "code",
      "source": [
        "dept_df.printSchema()"
      ],
      "metadata": {
        "colab": {
          "base_uri": "https://localhost:8080/"
        },
        "id": "rpnSqt6X13mk",
        "outputId": "f8caba02-f422-4a6d-9951-9288772c4a80"
      },
      "execution_count": null,
      "outputs": [
        {
          "output_type": "stream",
          "name": "stdout",
          "text": [
            "root\n",
            " |-- DeptID: integer (nullable = true)\n",
            " |-- DeptName: string (nullable = true)\n",
            " |-- ManagerID: integer (nullable = true)\n",
            " |-- Location: string (nullable = true)\n",
            "\n"
          ]
        }
      ]
    },
    {
      "cell_type": "markdown",
      "source": [
        "#Table Creation"
      ],
      "metadata": {
        "id": "uO7_s_K62CQ6"
      }
    },
    {
      "cell_type": "code",
      "source": [
        "emp_df.createOrReplaceTempView(\"t_EMPLOYEE\")"
      ],
      "metadata": {
        "id": "f3g4br8z2FbR"
      },
      "execution_count": null,
      "outputs": []
    },
    {
      "cell_type": "code",
      "source": [
        "dept_df.createOrReplaceTempView(\"t_DEPARTMENT\")"
      ],
      "metadata": {
        "id": "HvveWunV2FiR"
      },
      "execution_count": null,
      "outputs": []
    },
    {
      "cell_type": "markdown",
      "source": [
        "#SQL Operations"
      ],
      "metadata": {
        "id": "gkQY9uGA2WOW"
      }
    },
    {
      "cell_type": "code",
      "source": [
        "sqlOUT=spark.sql(\"SELECT * FROM t_Employee\")\n",
        "sqlOUT.show()"
      ],
      "metadata": {
        "colab": {
          "base_uri": "https://localhost:8080/"
        },
        "id": "C4_IL3uu2X-S",
        "outputId": "7af0398a-75f9-421c-bb30-a9aa8e96fb7f"
      },
      "execution_count": null,
      "outputs": [
        {
          "output_type": "stream",
          "name": "stdout",
          "text": [
            "+------+-----------+---------+----------+----------+------+----+------+\n",
            "| EmpID|   LastName|FirstName|   JobDesc|  JoinDate|Salary|Comm|DeptID|\n",
            "+------+-----------+---------+----------+----------+------+----+------+\n",
            "|742866|    Bacchan|  Amitabh| Executive|10-03-2003| 50000| 0.1|    10|\n",
            "|349870|  Mukherjee|     Rani|   Manager|04-05-2005| 25000|0.06|    40|\n",
            "|865477|    Dikshit|  Madhuri|     Clerk|04-04-2002| 10000|0.02|    20|\n",
            "|239456|       Khan| Shahrukh|   Manager|03-01-2004| 30000|0.07|    20|\n",
            "|897889|     Sehwag| Virender|   Cus_Rep|02-01-2005| 15000|0.05|    20|\n",
            "|123980|      Dhoni| Mahender|     Clerk|09-10-2004|  9000|0.02|    40|\n",
            "|822134|     Dravid|    Rahul|Sr Manager|04-06-2000| 40000|0.08|    30|\n",
            "|997445|     Dalmia| Jagmohan|     Clerk|01-07-2001| 12000|0.02|    30|\n",
            "|989007|    Ganguly|   Sourav|   Cus_Rep|01-01-2002| 20000|0.03|    40|\n",
            "|299034|    Ganesan|    Rekha|  Director|10-10-2002| 60000|0.11|    10|\n",
            "|546223|Karthikeyan|  Narayan| Secretary|04-12-2005| 40000|0.09|    10|\n",
            "|223112|      Mirza|    Sania|   Cus_Rep|19-11-2001| 25000|0.04|    30|\n",
            "+------+-----------+---------+----------+----------+------+----+------+\n",
            "\n"
          ]
        }
      ]
    },
    {
      "cell_type": "code",
      "source": [
        "sqlOUT=spark.sql(\"Select DeptID, sum(salary) from t_EMPLOYEE Group by DeptID\")\n",
        "sqlOUT.show()"
      ],
      "metadata": {
        "colab": {
          "base_uri": "https://localhost:8080/"
        },
        "id": "lyxbECYT2YFq",
        "outputId": "b1daa183-0865-4d67-ae0a-aa2d2162373d"
      },
      "execution_count": null,
      "outputs": [
        {
          "output_type": "stream",
          "name": "stdout",
          "text": [
            "+------+-----------+\n",
            "|DeptID|sum(salary)|\n",
            "+------+-----------+\n",
            "|    40|      54000|\n",
            "|    20|      55000|\n",
            "|    10|     150000|\n",
            "|    30|      77000|\n",
            "+------+-----------+\n",
            "\n"
          ]
        }
      ]
    },
    {
      "cell_type": "code",
      "source": [
        "sqlOUT=spark.sql(\"Select * From t_EMPLOYEE, t_DEPARTMENT WHERE t_EMPLOYEE.DeptID = t_DEPARTMENT.DeptID\")\n",
        "sqlOUT.show()"
      ],
      "metadata": {
        "colab": {
          "base_uri": "https://localhost:8080/"
        },
        "id": "tTmDofZg3RAD",
        "outputId": "95f500bb-bbb8-4d28-aa74-3d94cea26824"
      },
      "execution_count": null,
      "outputs": [
        {
          "output_type": "stream",
          "name": "stdout",
          "text": [
            "+------+-----------+---------+----------+----------+------+----+------+------+----------+---------+--------+\n",
            "| EmpID|   LastName|FirstName|   JobDesc|  JoinDate|Salary|Comm|DeptID|DeptID|  DeptName|ManagerID|Location|\n",
            "+------+-----------+---------+----------+----------+------+----+------+------+----------+---------+--------+\n",
            "|742866|    Bacchan|  Amitabh| Executive|10-03-2003| 50000| 0.1|    10|    10| Corporate|   299034|Calcutta|\n",
            "|349870|  Mukherjee|     Rani|   Manager|04-05-2005| 25000|0.06|    40|    40|Production|   349870|  Bombay|\n",
            "|865477|    Dikshit|  Madhuri|     Clerk|04-04-2002| 10000|0.02|    20|    20|     Sales|   239456|Calcutta|\n",
            "|239456|       Khan| Shahrukh|   Manager|03-01-2004| 30000|0.07|    20|    20|     Sales|   239456|Calcutta|\n",
            "|897889|     Sehwag| Virender|   Cus_Rep|02-01-2005| 15000|0.05|    20|    20|     Sales|   239456|Calcutta|\n",
            "|123980|      Dhoni| Mahender|     Clerk|09-10-2004|  9000|0.02|    40|    40|Production|   349870|  Bombay|\n",
            "|822134|     Dravid|    Rahul|Sr Manager|04-06-2000| 40000|0.08|    30|    30|  Accounts|   822134|Calcutta|\n",
            "|997445|     Dalmia| Jagmohan|     Clerk|01-07-2001| 12000|0.02|    30|    30|  Accounts|   822134|Calcutta|\n",
            "|989007|    Ganguly|   Sourav|   Cus_Rep|01-01-2002| 20000|0.03|    40|    40|Production|   349870|  Bombay|\n",
            "|299034|    Ganesan|    Rekha|  Director|10-10-2002| 60000|0.11|    10|    10| Corporate|   299034|Calcutta|\n",
            "|546223|Karthikeyan|  Narayan| Secretary|04-12-2005| 40000|0.09|    10|    10| Corporate|   299034|Calcutta|\n",
            "|223112|      Mirza|    Sania|   Cus_Rep|19-11-2001| 25000|0.04|    30|    30|  Accounts|   822134|Calcutta|\n",
            "+------+-----------+---------+----------+----------+------+----+------+------+----------+---------+--------+\n",
            "\n"
          ]
        }
      ]
    }
  ]
}